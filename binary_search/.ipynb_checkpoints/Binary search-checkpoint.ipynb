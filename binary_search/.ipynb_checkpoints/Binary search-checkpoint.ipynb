{
 "cells": [
  {
   "cell_type": "code",
   "execution_count": 10,
   "metadata": {},
   "outputs": [
    {
     "name": "stdout",
     "output_type": "stream",
     "text": [
      "None\n"
     ]
    }
   ],
   "source": [
    "def binary_search(list, item):\n",
    "    low = 0\n",
    "    high = len(list) - 1\n",
    "    while low <= high:\n",
    "        # calculate the middle of the list, In case of odd length ,if it is not a whole number round off with //\n",
    "        mid = (low + high) // 2\n",
    "        guess = list[mid]\n",
    "        if guess == item:\n",
    "            return mid\n",
    "        if guess > item:\n",
    "            high = mid -1\n",
    "        else:\n",
    "            low = mid + 1\n",
    "    return None # if nothing is found in the list return None\n",
    "my_list= [1,4,7,23,2,12,3,6,7]\n",
    "print(binary_search(sorted(my_list), 90))"
   ]
  }
 ],
 "metadata": {
  "kernelspec": {
   "display_name": "Python 3",
   "language": "python",
   "name": "python3"
  },
  "language_info": {
   "codemirror_mode": {
    "name": "ipython",
    "version": 3
   },
   "file_extension": ".py",
   "mimetype": "text/x-python",
   "name": "python",
   "nbconvert_exporter": "python",
   "pygments_lexer": "ipython3",
   "version": "3.9.5"
  }
 },
 "nbformat": 4,
 "nbformat_minor": 4
}
